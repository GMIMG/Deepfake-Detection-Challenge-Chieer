{
 "cells": [
  {
   "cell_type": "code",
   "execution_count": 1,
   "metadata": {},
   "outputs": [],
   "source": [
    "import os\n",
    "import numpy as np\n",
    "from tensorflow.keras.models import load_model\n",
    "from tensorflow.keras.preprocessing.image import img_to_array, load_img"
   ]
  },
  {
   "cell_type": "code",
   "execution_count": 6,
   "metadata": {},
   "outputs": [],
   "source": [
    "import tensorflow as tf"
   ]
  },
  {
   "cell_type": "code",
   "execution_count": 2,
   "metadata": {},
   "outputs": [],
   "source": [
    "import cv2"
   ]
  },
  {
   "cell_type": "code",
   "execution_count": 3,
   "metadata": {},
   "outputs": [],
   "source": [
    "model = load_model('deepfake-detection3.h5')"
   ]
  },
  {
   "cell_type": "code",
   "execution_count": 15,
   "metadata": {},
   "outputs": [
    {
     "name": "stdout",
     "output_type": "stream",
     "text": [
      "1000\n",
      "500\n",
      "1000\n"
     ]
    }
   ],
   "source": [
    "input_shape = (160, 160, 3)\n",
    "test_size = 1000\n",
    "\n",
    "data_dir = '../working/dataset'\n",
    "\n",
    "\n",
    "test_data = [f for f in os.listdir(data_dir+'/REAL3') if f.endswith('.jpg')]\n",
    "test_data = np.random.choice(test_data, test_size, replace=False)\n",
    "\n",
    "\n",
    "# cv2.resize(load_img(data_dir+'/FAKE3/'+img), (160, 160))\n",
    "\n",
    "print(test_size)\n",
    "\n",
    "\n",
    "X = []\n",
    "Y = []\n",
    "\n",
    "# 이미지 불러서 list로 저장\n",
    "for idx, img in enumerate(test_data):\n",
    "#     X.append(img_to_array(load_img(data_dir+'/FAKE3/'+img) ).flatten() / 255.0)\n",
    "    tf.constant\n",
    "    \n",
    "    X.append(cv2.resize(img_to_array(load_img(data_dir+'/REAL3/'+img)),(160,160))/255)\n",
    "    Y.append(0)\n",
    "\n",
    "    if (idx+1) % 500 == 0:\n",
    "        print(idx+1)"
   ]
  },
  {
   "cell_type": "code",
   "execution_count": 16,
   "metadata": {},
   "outputs": [],
   "source": [
    "X = np.array(X)\n",
    "\n",
    "#Reshape\n",
    "X = X.reshape(-1, 160, 160, 3)"
   ]
  },
  {
   "cell_type": "code",
   "execution_count": 17,
   "metadata": {},
   "outputs": [],
   "source": [
    "y_pred = model.predict(X)"
   ]
  },
  {
   "cell_type": "code",
   "execution_count": 19,
   "metadata": {},
   "outputs": [],
   "source": [
    "y_true = [0]*999"
   ]
  },
  {
   "cell_type": "code",
   "execution_count": 20,
   "metadata": {},
   "outputs": [],
   "source": [
    "y_true.append(1)"
   ]
  },
  {
   "cell_type": "code",
   "execution_count": 21,
   "metadata": {},
   "outputs": [
    {
     "data": {
      "text/plain": [
       "array([[1.39541095e-02, 9.86045897e-01],\n",
       "       [4.44751471e-01, 5.55248499e-01],\n",
       "       [7.60283321e-04, 9.99239683e-01],\n",
       "       ...,\n",
       "       [9.46824718e-03, 9.90531683e-01],\n",
       "       [1.85037237e-02, 9.81496274e-01],\n",
       "       [2.25695367e-05, 9.99977469e-01]], dtype=float32)"
      ]
     },
     "execution_count": 21,
     "metadata": {},
     "output_type": "execute_result"
    }
   ],
   "source": [
    "y_pred"
   ]
  },
  {
   "cell_type": "code",
   "execution_count": 22,
   "metadata": {},
   "outputs": [],
   "source": [
    "from sklearn.metrics import log_loss"
   ]
  },
  {
   "cell_type": "code",
   "execution_count": 23,
   "metadata": {},
   "outputs": [
    {
     "data": {
      "text/plain": [
       "7.827008482326775"
      ]
     },
     "execution_count": 23,
     "metadata": {},
     "output_type": "execute_result"
    }
   ],
   "source": [
    "log_loss(y_true, y_pred)"
   ]
  },
  {
   "cell_type": "code",
   "execution_count": null,
   "metadata": {},
   "outputs": [],
   "source": []
  }
 ],
 "metadata": {
  "kernelspec": {
   "display_name": "Python 3",
   "language": "python",
   "name": "python3"
  },
  "language_info": {
   "codemirror_mode": {
    "name": "ipython",
    "version": 3
   },
   "file_extension": ".py",
   "mimetype": "text/x-python",
   "name": "python",
   "nbconvert_exporter": "python",
   "pygments_lexer": "ipython3",
   "version": "3.7.6"
  }
 },
 "nbformat": 4,
 "nbformat_minor": 4
}
